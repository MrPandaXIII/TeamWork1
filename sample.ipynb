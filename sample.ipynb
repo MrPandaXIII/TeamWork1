{
 "cells": [
  {
   "cell_type": "code",
   "execution_count": 2,
   "id": "deb9b582",
   "metadata": {},
   "outputs": [],
   "source": [
    "import numpy as np"
   ]
  },
  {
   "cell_type": "code",
   "execution_count": null,
   "id": "f3cd5b56",
   "metadata": {},
   "outputs": [],
   "source": [
    "# Hi All my Team"
   ]
  },
  {
   "cell_type": "code",
   "execution_count": null,
   "id": "d601d0d5-5b66-42e9-b56b-2f17aa0fa934",
   "metadata": {},
   "outputs": [],
   "source": [
    "import pandas as pd"
   ]
  }
 ],
 "metadata": {
  "kernelspec": {
   "display_name": "Python 3 (ipykernel)",
   "language": "python",
   "name": "python3"
  },
  "language_info": {
   "codemirror_mode": {
    "name": "ipython",
    "version": 3
   },
   "file_extension": ".py",
   "mimetype": "text/x-python",
   "name": "python",
   "nbconvert_exporter": "python",
   "pygments_lexer": "ipython3",
   "version": "3.9.21"
  }
 },
 "nbformat": 4,
 "nbformat_minor": 5
}
